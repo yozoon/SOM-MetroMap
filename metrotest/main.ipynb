{
 "cells": [
  {
   "cell_type": "code",
   "execution_count": 23,
   "metadata": {},
   "outputs": [],
   "source": [
    "%matplotlib notebook\n",
    "\n",
    "import time\n",
    "import numpy as np\n",
    "import matplotlib.pyplot as plt\n",
    "import networkx as nx\n",
    "\n",
    "import tqdm.notebook as tqdm"
   ]
  },
  {
   "cell_type": "code",
   "execution_count": 2,
   "metadata": {},
   "outputs": [],
   "source": [
    "def octilinearity_constraint(G, weight):\n",
    "    nodes = G.nodes(data=True)\n",
    "    for a, b in G.edges():\n",
    "        # Calculate distance vector between nodes\n",
    "        diff = nodes[a]['pos'] - nodes[b]['pos']\n",
    "        # Calculate edge angle\n",
    "        phi = np.mod(np.arctan2(diff[1], diff[0]), 2*np.pi)\n",
    "        # Calculate restoring moment\n",
    "        moment = weight * (round(4 * phi / np.pi) - 4 * phi / np.pi)\n",
    "        # Assign forces to nodes\n",
    "        nodes[a]['force'] += np.array([-moment * np.sin(phi), moment * np.cos(phi)])\n",
    "        nodes[b]['force'] += np.array([moment * np.sin(phi), -moment * np.cos(phi)])\n",
    "\n",
    "\n",
    "def distance_constraint(G, k=10.0, x0=10.0):\n",
    "    nodes = G.nodes(data=True)\n",
    "    for a, b in G.edges():\n",
    "        # Calculate distance vector between nodes\n",
    "        diff = nodes[a]['pos'] - nodes[b]['pos']\n",
    "\n",
    "        # Calculate edge angle\n",
    "        phi = np.arctan2(diff[1], diff[0])\n",
    "        \n",
    "        # Calculate node distance (manhattan norm)\n",
    "        x = np.linalg.norm(diff, ord=1)\n",
    "        #print(x)\n",
    "        \n",
    "        # Calculate spring force based on hookes law:\n",
    "        f = 0\n",
    "        if x < x0:\n",
    "            f = -k * (x - x0)\n",
    "        elif x > np.sqrt(2) * x0:\n",
    "            f = -k * (x - x0 * (np.sqrt(2) - 1))\n",
    "\n",
    "        fvec = np.array([f * np.cos(phi), f * np.sin(phi)])\n",
    "\n",
    "        # Assign forces to nodes\n",
    "        nodes[a]['force'] += fvec\n",
    "        nodes[b]['force'] -= fvec\n",
    "\n",
    "\n",
    "def location_accuracy_constraint(G, weight):\n",
    "    for idx, node in G.nodes(data=True):\n",
    "        # Calculate the distance between the current position of the node and its original position (euclidean)\n",
    "        r = node['origin'] - node['pos']\n",
    "        # Apply a force that pulls the node towards its original position\n",
    "        node['force'] += r * weight\n",
    "\n",
    "\n",
    "def get_positions(graph, keyword='pos'):\n",
    "    pos = {}\n",
    "    for idx, node in graph.nodes.items():\n",
    "        pos[idx] = node[keyword]\n",
    "    return pos\n",
    "\n",
    "\n",
    "def generate_graph(N=10):\n",
    "    G = nx.Graph()\n",
    "\n",
    "    for i in range(N-1):\n",
    "        G.add_edge(i, i+1)\n",
    "        \n",
    "    phi = 0\n",
    "    for idx, node in G.nodes(data=True):\n",
    "        node['force'] = np.zeros(2)\n",
    "        if idx == 0:\n",
    "            node['pos'] = 25 + 50 * np.random.rand(2)\n",
    "        else:\n",
    "            r = 10 + np.random.rand(1)[0] * 20\n",
    "            phi += (0.5 - np.random.rand(1)[0]) * 2 * np.pi\n",
    "            node['pos'] = G.nodes(data=True)[idx-1]['pos'] + np.array([r*np.cos(phi), r*np.sin(phi)])\n",
    "        # Make a copy of the original positions so that we can use them later on\n",
    "        node['origin'] = node['pos'].copy()\n",
    "\n",
    "    return G\n",
    "\n",
    "\n",
    "def plot_graph(fig, ax, graph):\n",
    "    nx.draw(graph, pos=get_positions(graph), ax=ax, node_size=10)\n",
    "    fig.canvas.draw()\n",
    "\n",
    "\n",
    "def apply_forces(G, alpha):\n",
    "    for _, node in G.nodes(data=True):\n",
    "        node['pos'] += alpha * node['force']\n",
    "        node['force'] = np.zeros(2)"
   ]
  },
  {
   "cell_type": "code",
   "execution_count": 37,
   "metadata": {},
   "outputs": [
    {
     "data": {
      "application/javascript": [
       "/* Put everything inside the global mpl namespace */\n",
       "/* global mpl */\n",
       "window.mpl = {};\n",
       "\n",
       "mpl.get_websocket_type = function () {\n",
       "    if (typeof WebSocket !== 'undefined') {\n",
       "        return WebSocket;\n",
       "    } else if (typeof MozWebSocket !== 'undefined') {\n",
       "        return MozWebSocket;\n",
       "    } else {\n",
       "        alert(\n",
       "            'Your browser does not have WebSocket support. ' +\n",
       "                'Please try Chrome, Safari or Firefox ≥ 6. ' +\n",
       "                'Firefox 4 and 5 are also supported but you ' +\n",
       "                'have to enable WebSockets in about:config.'\n",
       "        );\n",
       "    }\n",
       "};\n",
       "\n",
       "mpl.figure = function (figure_id, websocket, ondownload, parent_element) {\n",
       "    this.id = figure_id;\n",
       "\n",
       "    this.ws = websocket;\n",
       "\n",
       "    this.supports_binary = this.ws.binaryType !== undefined;\n",
       "\n",
       "    if (!this.supports_binary) {\n",
       "        var warnings = document.getElementById('mpl-warnings');\n",
       "        if (warnings) {\n",
       "            warnings.style.display = 'block';\n",
       "            warnings.textContent =\n",
       "                'This browser does not support binary websocket messages. ' +\n",
       "                'Performance may be slow.';\n",
       "        }\n",
       "    }\n",
       "\n",
       "    this.imageObj = new Image();\n",
       "\n",
       "    this.context = undefined;\n",
       "    this.message = undefined;\n",
       "    this.canvas = undefined;\n",
       "    this.rubberband_canvas = undefined;\n",
       "    this.rubberband_context = undefined;\n",
       "    this.format_dropdown = undefined;\n",
       "\n",
       "    this.image_mode = 'full';\n",
       "\n",
       "    this.root = document.createElement('div');\n",
       "    this.root.setAttribute('style', 'display: inline-block');\n",
       "    this._root_extra_style(this.root);\n",
       "\n",
       "    parent_element.appendChild(this.root);\n",
       "\n",
       "    this._init_header(this);\n",
       "    this._init_canvas(this);\n",
       "    this._init_toolbar(this);\n",
       "\n",
       "    var fig = this;\n",
       "\n",
       "    this.waiting = false;\n",
       "\n",
       "    this.ws.onopen = function () {\n",
       "        fig.send_message('supports_binary', { value: fig.supports_binary });\n",
       "        fig.send_message('send_image_mode', {});\n",
       "        if (fig.ratio !== 1) {\n",
       "            fig.send_message('set_dpi_ratio', { dpi_ratio: fig.ratio });\n",
       "        }\n",
       "        fig.send_message('refresh', {});\n",
       "    };\n",
       "\n",
       "    this.imageObj.onload = function () {\n",
       "        if (fig.image_mode === 'full') {\n",
       "            // Full images could contain transparency (where diff images\n",
       "            // almost always do), so we need to clear the canvas so that\n",
       "            // there is no ghosting.\n",
       "            fig.context.clearRect(0, 0, fig.canvas.width, fig.canvas.height);\n",
       "        }\n",
       "        fig.context.drawImage(fig.imageObj, 0, 0);\n",
       "    };\n",
       "\n",
       "    this.imageObj.onunload = function () {\n",
       "        fig.ws.close();\n",
       "    };\n",
       "\n",
       "    this.ws.onmessage = this._make_on_message_function(this);\n",
       "\n",
       "    this.ondownload = ondownload;\n",
       "};\n",
       "\n",
       "mpl.figure.prototype._init_header = function () {\n",
       "    var titlebar = document.createElement('div');\n",
       "    titlebar.classList =\n",
       "        'ui-dialog-titlebar ui-widget-header ui-corner-all ui-helper-clearfix';\n",
       "    var titletext = document.createElement('div');\n",
       "    titletext.classList = 'ui-dialog-title';\n",
       "    titletext.setAttribute(\n",
       "        'style',\n",
       "        'width: 100%; text-align: center; padding: 3px;'\n",
       "    );\n",
       "    titlebar.appendChild(titletext);\n",
       "    this.root.appendChild(titlebar);\n",
       "    this.header = titletext;\n",
       "};\n",
       "\n",
       "mpl.figure.prototype._canvas_extra_style = function (_canvas_div) {};\n",
       "\n",
       "mpl.figure.prototype._root_extra_style = function (_canvas_div) {};\n",
       "\n",
       "mpl.figure.prototype._init_canvas = function () {\n",
       "    var fig = this;\n",
       "\n",
       "    var canvas_div = (this.canvas_div = document.createElement('div'));\n",
       "    canvas_div.setAttribute(\n",
       "        'style',\n",
       "        'border: 1px solid #ddd;' +\n",
       "            'box-sizing: content-box;' +\n",
       "            'clear: both;' +\n",
       "            'min-height: 1px;' +\n",
       "            'min-width: 1px;' +\n",
       "            'outline: 0;' +\n",
       "            'overflow: hidden;' +\n",
       "            'position: relative;' +\n",
       "            'resize: both;'\n",
       "    );\n",
       "\n",
       "    function on_keyboard_event_closure(name) {\n",
       "        return function (event) {\n",
       "            return fig.key_event(event, name);\n",
       "        };\n",
       "    }\n",
       "\n",
       "    canvas_div.addEventListener(\n",
       "        'keydown',\n",
       "        on_keyboard_event_closure('key_press')\n",
       "    );\n",
       "    canvas_div.addEventListener(\n",
       "        'keyup',\n",
       "        on_keyboard_event_closure('key_release')\n",
       "    );\n",
       "\n",
       "    this._canvas_extra_style(canvas_div);\n",
       "    this.root.appendChild(canvas_div);\n",
       "\n",
       "    var canvas = (this.canvas = document.createElement('canvas'));\n",
       "    canvas.classList.add('mpl-canvas');\n",
       "    canvas.setAttribute('style', 'box-sizing: content-box;');\n",
       "\n",
       "    this.context = canvas.getContext('2d');\n",
       "\n",
       "    var backingStore =\n",
       "        this.context.backingStorePixelRatio ||\n",
       "        this.context.webkitBackingStorePixelRatio ||\n",
       "        this.context.mozBackingStorePixelRatio ||\n",
       "        this.context.msBackingStorePixelRatio ||\n",
       "        this.context.oBackingStorePixelRatio ||\n",
       "        this.context.backingStorePixelRatio ||\n",
       "        1;\n",
       "\n",
       "    this.ratio = (window.devicePixelRatio || 1) / backingStore;\n",
       "    if (this.ratio !== 1) {\n",
       "        fig.send_message('set_dpi_ratio', { dpi_ratio: this.ratio });\n",
       "    }\n",
       "\n",
       "    var rubberband_canvas = (this.rubberband_canvas = document.createElement(\n",
       "        'canvas'\n",
       "    ));\n",
       "    rubberband_canvas.setAttribute(\n",
       "        'style',\n",
       "        'box-sizing: content-box; position: absolute; left: 0; top: 0; z-index: 1;'\n",
       "    );\n",
       "\n",
       "    // Apply a ponyfill if ResizeObserver is not implemented by browser.\n",
       "    if (this.ResizeObserver === undefined) {\n",
       "        if (window.ResizeObserver !== undefined) {\n",
       "            this.ResizeObserver = window.ResizeObserver;\n",
       "        } else {\n",
       "            var obs = _JSXTOOLS_RESIZE_OBSERVER({});\n",
       "            this.ResizeObserver = obs.ResizeObserver;\n",
       "        }\n",
       "    }\n",
       "\n",
       "    this.resizeObserverInstance = new this.ResizeObserver(function (entries) {\n",
       "        var nentries = entries.length;\n",
       "        for (var i = 0; i < nentries; i++) {\n",
       "            var entry = entries[i];\n",
       "            var width, height;\n",
       "            if (entry.contentBoxSize) {\n",
       "                if (entry.contentBoxSize instanceof Array) {\n",
       "                    // Chrome 84 implements new version of spec.\n",
       "                    width = entry.contentBoxSize[0].inlineSize;\n",
       "                    height = entry.contentBoxSize[0].blockSize;\n",
       "                } else {\n",
       "                    // Firefox implements old version of spec.\n",
       "                    width = entry.contentBoxSize.inlineSize;\n",
       "                    height = entry.contentBoxSize.blockSize;\n",
       "                }\n",
       "            } else {\n",
       "                // Chrome <84 implements even older version of spec.\n",
       "                width = entry.contentRect.width;\n",
       "                height = entry.contentRect.height;\n",
       "            }\n",
       "\n",
       "            // Keep the size of the canvas and rubber band canvas in sync with\n",
       "            // the canvas container.\n",
       "            if (entry.devicePixelContentBoxSize) {\n",
       "                // Chrome 84 implements new version of spec.\n",
       "                canvas.setAttribute(\n",
       "                    'width',\n",
       "                    entry.devicePixelContentBoxSize[0].inlineSize\n",
       "                );\n",
       "                canvas.setAttribute(\n",
       "                    'height',\n",
       "                    entry.devicePixelContentBoxSize[0].blockSize\n",
       "                );\n",
       "            } else {\n",
       "                canvas.setAttribute('width', width * fig.ratio);\n",
       "                canvas.setAttribute('height', height * fig.ratio);\n",
       "            }\n",
       "            canvas.setAttribute(\n",
       "                'style',\n",
       "                'width: ' + width + 'px; height: ' + height + 'px;'\n",
       "            );\n",
       "\n",
       "            rubberband_canvas.setAttribute('width', width);\n",
       "            rubberband_canvas.setAttribute('height', height);\n",
       "\n",
       "            // And update the size in Python. We ignore the initial 0/0 size\n",
       "            // that occurs as the element is placed into the DOM, which should\n",
       "            // otherwise not happen due to the minimum size styling.\n",
       "            if (width != 0 && height != 0) {\n",
       "                fig.request_resize(width, height);\n",
       "            }\n",
       "        }\n",
       "    });\n",
       "    this.resizeObserverInstance.observe(canvas_div);\n",
       "\n",
       "    function on_mouse_event_closure(name) {\n",
       "        return function (event) {\n",
       "            return fig.mouse_event(event, name);\n",
       "        };\n",
       "    }\n",
       "\n",
       "    rubberband_canvas.addEventListener(\n",
       "        'mousedown',\n",
       "        on_mouse_event_closure('button_press')\n",
       "    );\n",
       "    rubberband_canvas.addEventListener(\n",
       "        'mouseup',\n",
       "        on_mouse_event_closure('button_release')\n",
       "    );\n",
       "    // Throttle sequential mouse events to 1 every 20ms.\n",
       "    rubberband_canvas.addEventListener(\n",
       "        'mousemove',\n",
       "        on_mouse_event_closure('motion_notify')\n",
       "    );\n",
       "\n",
       "    rubberband_canvas.addEventListener(\n",
       "        'mouseenter',\n",
       "        on_mouse_event_closure('figure_enter')\n",
       "    );\n",
       "    rubberband_canvas.addEventListener(\n",
       "        'mouseleave',\n",
       "        on_mouse_event_closure('figure_leave')\n",
       "    );\n",
       "\n",
       "    canvas_div.addEventListener('wheel', function (event) {\n",
       "        if (event.deltaY < 0) {\n",
       "            event.step = 1;\n",
       "        } else {\n",
       "            event.step = -1;\n",
       "        }\n",
       "        on_mouse_event_closure('scroll')(event);\n",
       "    });\n",
       "\n",
       "    canvas_div.appendChild(canvas);\n",
       "    canvas_div.appendChild(rubberband_canvas);\n",
       "\n",
       "    this.rubberband_context = rubberband_canvas.getContext('2d');\n",
       "    this.rubberband_context.strokeStyle = '#000000';\n",
       "\n",
       "    this._resize_canvas = function (width, height, forward) {\n",
       "        if (forward) {\n",
       "            canvas_div.style.width = width + 'px';\n",
       "            canvas_div.style.height = height + 'px';\n",
       "        }\n",
       "    };\n",
       "\n",
       "    // Disable right mouse context menu.\n",
       "    this.rubberband_canvas.addEventListener('contextmenu', function (_e) {\n",
       "        event.preventDefault();\n",
       "        return false;\n",
       "    });\n",
       "\n",
       "    function set_focus() {\n",
       "        canvas.focus();\n",
       "        canvas_div.focus();\n",
       "    }\n",
       "\n",
       "    window.setTimeout(set_focus, 100);\n",
       "};\n",
       "\n",
       "mpl.figure.prototype._init_toolbar = function () {\n",
       "    var fig = this;\n",
       "\n",
       "    var toolbar = document.createElement('div');\n",
       "    toolbar.classList = 'mpl-toolbar';\n",
       "    this.root.appendChild(toolbar);\n",
       "\n",
       "    function on_click_closure(name) {\n",
       "        return function (_event) {\n",
       "            return fig.toolbar_button_onclick(name);\n",
       "        };\n",
       "    }\n",
       "\n",
       "    function on_mouseover_closure(tooltip) {\n",
       "        return function (event) {\n",
       "            if (!event.currentTarget.disabled) {\n",
       "                return fig.toolbar_button_onmouseover(tooltip);\n",
       "            }\n",
       "        };\n",
       "    }\n",
       "\n",
       "    fig.buttons = {};\n",
       "    var buttonGroup = document.createElement('div');\n",
       "    buttonGroup.classList = 'mpl-button-group';\n",
       "    for (var toolbar_ind in mpl.toolbar_items) {\n",
       "        var name = mpl.toolbar_items[toolbar_ind][0];\n",
       "        var tooltip = mpl.toolbar_items[toolbar_ind][1];\n",
       "        var image = mpl.toolbar_items[toolbar_ind][2];\n",
       "        var method_name = mpl.toolbar_items[toolbar_ind][3];\n",
       "\n",
       "        if (!name) {\n",
       "            /* Instead of a spacer, we start a new button group. */\n",
       "            if (buttonGroup.hasChildNodes()) {\n",
       "                toolbar.appendChild(buttonGroup);\n",
       "            }\n",
       "            buttonGroup = document.createElement('div');\n",
       "            buttonGroup.classList = 'mpl-button-group';\n",
       "            continue;\n",
       "        }\n",
       "\n",
       "        var button = (fig.buttons[name] = document.createElement('button'));\n",
       "        button.classList = 'mpl-widget';\n",
       "        button.setAttribute('role', 'button');\n",
       "        button.setAttribute('aria-disabled', 'false');\n",
       "        button.addEventListener('click', on_click_closure(method_name));\n",
       "        button.addEventListener('mouseover', on_mouseover_closure(tooltip));\n",
       "\n",
       "        var icon_img = document.createElement('img');\n",
       "        icon_img.src = '_images/' + image + '.png';\n",
       "        icon_img.srcset = '_images/' + image + '_large.png 2x';\n",
       "        icon_img.alt = tooltip;\n",
       "        button.appendChild(icon_img);\n",
       "\n",
       "        buttonGroup.appendChild(button);\n",
       "    }\n",
       "\n",
       "    if (buttonGroup.hasChildNodes()) {\n",
       "        toolbar.appendChild(buttonGroup);\n",
       "    }\n",
       "\n",
       "    var fmt_picker = document.createElement('select');\n",
       "    fmt_picker.classList = 'mpl-widget';\n",
       "    toolbar.appendChild(fmt_picker);\n",
       "    this.format_dropdown = fmt_picker;\n",
       "\n",
       "    for (var ind in mpl.extensions) {\n",
       "        var fmt = mpl.extensions[ind];\n",
       "        var option = document.createElement('option');\n",
       "        option.selected = fmt === mpl.default_extension;\n",
       "        option.innerHTML = fmt;\n",
       "        fmt_picker.appendChild(option);\n",
       "    }\n",
       "\n",
       "    var status_bar = document.createElement('span');\n",
       "    status_bar.classList = 'mpl-message';\n",
       "    toolbar.appendChild(status_bar);\n",
       "    this.message = status_bar;\n",
       "};\n",
       "\n",
       "mpl.figure.prototype.request_resize = function (x_pixels, y_pixels) {\n",
       "    // Request matplotlib to resize the figure. Matplotlib will then trigger a resize in the client,\n",
       "    // which will in turn request a refresh of the image.\n",
       "    this.send_message('resize', { width: x_pixels, height: y_pixels });\n",
       "};\n",
       "\n",
       "mpl.figure.prototype.send_message = function (type, properties) {\n",
       "    properties['type'] = type;\n",
       "    properties['figure_id'] = this.id;\n",
       "    this.ws.send(JSON.stringify(properties));\n",
       "};\n",
       "\n",
       "mpl.figure.prototype.send_draw_message = function () {\n",
       "    if (!this.waiting) {\n",
       "        this.waiting = true;\n",
       "        this.ws.send(JSON.stringify({ type: 'draw', figure_id: this.id }));\n",
       "    }\n",
       "};\n",
       "\n",
       "mpl.figure.prototype.handle_save = function (fig, _msg) {\n",
       "    var format_dropdown = fig.format_dropdown;\n",
       "    var format = format_dropdown.options[format_dropdown.selectedIndex].value;\n",
       "    fig.ondownload(fig, format);\n",
       "};\n",
       "\n",
       "mpl.figure.prototype.handle_resize = function (fig, msg) {\n",
       "    var size = msg['size'];\n",
       "    if (size[0] !== fig.canvas.width || size[1] !== fig.canvas.height) {\n",
       "        fig._resize_canvas(size[0], size[1], msg['forward']);\n",
       "        fig.send_message('refresh', {});\n",
       "    }\n",
       "};\n",
       "\n",
       "mpl.figure.prototype.handle_rubberband = function (fig, msg) {\n",
       "    var x0 = msg['x0'] / fig.ratio;\n",
       "    var y0 = (fig.canvas.height - msg['y0']) / fig.ratio;\n",
       "    var x1 = msg['x1'] / fig.ratio;\n",
       "    var y1 = (fig.canvas.height - msg['y1']) / fig.ratio;\n",
       "    x0 = Math.floor(x0) + 0.5;\n",
       "    y0 = Math.floor(y0) + 0.5;\n",
       "    x1 = Math.floor(x1) + 0.5;\n",
       "    y1 = Math.floor(y1) + 0.5;\n",
       "    var min_x = Math.min(x0, x1);\n",
       "    var min_y = Math.min(y0, y1);\n",
       "    var width = Math.abs(x1 - x0);\n",
       "    var height = Math.abs(y1 - y0);\n",
       "\n",
       "    fig.rubberband_context.clearRect(\n",
       "        0,\n",
       "        0,\n",
       "        fig.canvas.width / fig.ratio,\n",
       "        fig.canvas.height / fig.ratio\n",
       "    );\n",
       "\n",
       "    fig.rubberband_context.strokeRect(min_x, min_y, width, height);\n",
       "};\n",
       "\n",
       "mpl.figure.prototype.handle_figure_label = function (fig, msg) {\n",
       "    // Updates the figure title.\n",
       "    fig.header.textContent = msg['label'];\n",
       "};\n",
       "\n",
       "mpl.figure.prototype.handle_cursor = function (fig, msg) {\n",
       "    var cursor = msg['cursor'];\n",
       "    switch (cursor) {\n",
       "        case 0:\n",
       "            cursor = 'pointer';\n",
       "            break;\n",
       "        case 1:\n",
       "            cursor = 'default';\n",
       "            break;\n",
       "        case 2:\n",
       "            cursor = 'crosshair';\n",
       "            break;\n",
       "        case 3:\n",
       "            cursor = 'move';\n",
       "            break;\n",
       "    }\n",
       "    fig.rubberband_canvas.style.cursor = cursor;\n",
       "};\n",
       "\n",
       "mpl.figure.prototype.handle_message = function (fig, msg) {\n",
       "    fig.message.textContent = msg['message'];\n",
       "};\n",
       "\n",
       "mpl.figure.prototype.handle_draw = function (fig, _msg) {\n",
       "    // Request the server to send over a new figure.\n",
       "    fig.send_draw_message();\n",
       "};\n",
       "\n",
       "mpl.figure.prototype.handle_image_mode = function (fig, msg) {\n",
       "    fig.image_mode = msg['mode'];\n",
       "};\n",
       "\n",
       "mpl.figure.prototype.handle_history_buttons = function (fig, msg) {\n",
       "    for (var key in msg) {\n",
       "        if (!(key in fig.buttons)) {\n",
       "            continue;\n",
       "        }\n",
       "        fig.buttons[key].disabled = !msg[key];\n",
       "        fig.buttons[key].setAttribute('aria-disabled', !msg[key]);\n",
       "    }\n",
       "};\n",
       "\n",
       "mpl.figure.prototype.handle_navigate_mode = function (fig, msg) {\n",
       "    if (msg['mode'] === 'PAN') {\n",
       "        fig.buttons['Pan'].classList.add('active');\n",
       "        fig.buttons['Zoom'].classList.remove('active');\n",
       "    } else if (msg['mode'] === 'ZOOM') {\n",
       "        fig.buttons['Pan'].classList.remove('active');\n",
       "        fig.buttons['Zoom'].classList.add('active');\n",
       "    } else {\n",
       "        fig.buttons['Pan'].classList.remove('active');\n",
       "        fig.buttons['Zoom'].classList.remove('active');\n",
       "    }\n",
       "};\n",
       "\n",
       "mpl.figure.prototype.updated_canvas_event = function () {\n",
       "    // Called whenever the canvas gets updated.\n",
       "    this.send_message('ack', {});\n",
       "};\n",
       "\n",
       "// A function to construct a web socket function for onmessage handling.\n",
       "// Called in the figure constructor.\n",
       "mpl.figure.prototype._make_on_message_function = function (fig) {\n",
       "    return function socket_on_message(evt) {\n",
       "        if (evt.data instanceof Blob) {\n",
       "            /* FIXME: We get \"Resource interpreted as Image but\n",
       "             * transferred with MIME type text/plain:\" errors on\n",
       "             * Chrome.  But how to set the MIME type?  It doesn't seem\n",
       "             * to be part of the websocket stream */\n",
       "            evt.data.type = 'image/png';\n",
       "\n",
       "            /* Free the memory for the previous frames */\n",
       "            if (fig.imageObj.src) {\n",
       "                (window.URL || window.webkitURL).revokeObjectURL(\n",
       "                    fig.imageObj.src\n",
       "                );\n",
       "            }\n",
       "\n",
       "            fig.imageObj.src = (window.URL || window.webkitURL).createObjectURL(\n",
       "                evt.data\n",
       "            );\n",
       "            fig.updated_canvas_event();\n",
       "            fig.waiting = false;\n",
       "            return;\n",
       "        } else if (\n",
       "            typeof evt.data === 'string' &&\n",
       "            evt.data.slice(0, 21) === 'data:image/png;base64'\n",
       "        ) {\n",
       "            fig.imageObj.src = evt.data;\n",
       "            fig.updated_canvas_event();\n",
       "            fig.waiting = false;\n",
       "            return;\n",
       "        }\n",
       "\n",
       "        var msg = JSON.parse(evt.data);\n",
       "        var msg_type = msg['type'];\n",
       "\n",
       "        // Call the  \"handle_{type}\" callback, which takes\n",
       "        // the figure and JSON message as its only arguments.\n",
       "        try {\n",
       "            var callback = fig['handle_' + msg_type];\n",
       "        } catch (e) {\n",
       "            console.log(\n",
       "                \"No handler for the '\" + msg_type + \"' message type: \",\n",
       "                msg\n",
       "            );\n",
       "            return;\n",
       "        }\n",
       "\n",
       "        if (callback) {\n",
       "            try {\n",
       "                // console.log(\"Handling '\" + msg_type + \"' message: \", msg);\n",
       "                callback(fig, msg);\n",
       "            } catch (e) {\n",
       "                console.log(\n",
       "                    \"Exception inside the 'handler_\" + msg_type + \"' callback:\",\n",
       "                    e,\n",
       "                    e.stack,\n",
       "                    msg\n",
       "                );\n",
       "            }\n",
       "        }\n",
       "    };\n",
       "};\n",
       "\n",
       "// from http://stackoverflow.com/questions/1114465/getting-mouse-location-in-canvas\n",
       "mpl.findpos = function (e) {\n",
       "    //this section is from http://www.quirksmode.org/js/events_properties.html\n",
       "    var targ;\n",
       "    if (!e) {\n",
       "        e = window.event;\n",
       "    }\n",
       "    if (e.target) {\n",
       "        targ = e.target;\n",
       "    } else if (e.srcElement) {\n",
       "        targ = e.srcElement;\n",
       "    }\n",
       "    if (targ.nodeType === 3) {\n",
       "        // defeat Safari bug\n",
       "        targ = targ.parentNode;\n",
       "    }\n",
       "\n",
       "    // pageX,Y are the mouse positions relative to the document\n",
       "    var boundingRect = targ.getBoundingClientRect();\n",
       "    var x = e.pageX - (boundingRect.left + document.body.scrollLeft);\n",
       "    var y = e.pageY - (boundingRect.top + document.body.scrollTop);\n",
       "\n",
       "    return { x: x, y: y };\n",
       "};\n",
       "\n",
       "/*\n",
       " * return a copy of an object with only non-object keys\n",
       " * we need this to avoid circular references\n",
       " * http://stackoverflow.com/a/24161582/3208463\n",
       " */\n",
       "function simpleKeys(original) {\n",
       "    return Object.keys(original).reduce(function (obj, key) {\n",
       "        if (typeof original[key] !== 'object') {\n",
       "            obj[key] = original[key];\n",
       "        }\n",
       "        return obj;\n",
       "    }, {});\n",
       "}\n",
       "\n",
       "mpl.figure.prototype.mouse_event = function (event, name) {\n",
       "    var canvas_pos = mpl.findpos(event);\n",
       "\n",
       "    if (name === 'button_press') {\n",
       "        this.canvas.focus();\n",
       "        this.canvas_div.focus();\n",
       "    }\n",
       "\n",
       "    var x = canvas_pos.x * this.ratio;\n",
       "    var y = canvas_pos.y * this.ratio;\n",
       "\n",
       "    this.send_message(name, {\n",
       "        x: x,\n",
       "        y: y,\n",
       "        button: event.button,\n",
       "        step: event.step,\n",
       "        guiEvent: simpleKeys(event),\n",
       "    });\n",
       "\n",
       "    /* This prevents the web browser from automatically changing to\n",
       "     * the text insertion cursor when the button is pressed.  We want\n",
       "     * to control all of the cursor setting manually through the\n",
       "     * 'cursor' event from matplotlib */\n",
       "    event.preventDefault();\n",
       "    return false;\n",
       "};\n",
       "\n",
       "mpl.figure.prototype._key_event_extra = function (_event, _name) {\n",
       "    // Handle any extra behaviour associated with a key event\n",
       "};\n",
       "\n",
       "mpl.figure.prototype.key_event = function (event, name) {\n",
       "    // Prevent repeat events\n",
       "    if (name === 'key_press') {\n",
       "        if (event.which === this._key) {\n",
       "            return;\n",
       "        } else {\n",
       "            this._key = event.which;\n",
       "        }\n",
       "    }\n",
       "    if (name === 'key_release') {\n",
       "        this._key = null;\n",
       "    }\n",
       "\n",
       "    var value = '';\n",
       "    if (event.ctrlKey && event.which !== 17) {\n",
       "        value += 'ctrl+';\n",
       "    }\n",
       "    if (event.altKey && event.which !== 18) {\n",
       "        value += 'alt+';\n",
       "    }\n",
       "    if (event.shiftKey && event.which !== 16) {\n",
       "        value += 'shift+';\n",
       "    }\n",
       "\n",
       "    value += 'k';\n",
       "    value += event.which.toString();\n",
       "\n",
       "    this._key_event_extra(event, name);\n",
       "\n",
       "    this.send_message(name, { key: value, guiEvent: simpleKeys(event) });\n",
       "    return false;\n",
       "};\n",
       "\n",
       "mpl.figure.prototype.toolbar_button_onclick = function (name) {\n",
       "    if (name === 'download') {\n",
       "        this.handle_save(this, null);\n",
       "    } else {\n",
       "        this.send_message('toolbar_button', { name: name });\n",
       "    }\n",
       "};\n",
       "\n",
       "mpl.figure.prototype.toolbar_button_onmouseover = function (tooltip) {\n",
       "    this.message.textContent = tooltip;\n",
       "};\n",
       "\n",
       "///////////////// REMAINING CONTENT GENERATED BY embed_js.py /////////////////\n",
       "// prettier-ignore\n",
       "var _JSXTOOLS_RESIZE_OBSERVER=function(A){var t,i=new WeakMap,n=new WeakMap,a=new WeakMap,r=new WeakMap,o=new Set;function s(e){if(!(this instanceof s))throw new TypeError(\"Constructor requires 'new' operator\");i.set(this,e)}function h(){throw new TypeError(\"Function is not a constructor\")}function c(e,t,i,n){e=0 in arguments?Number(arguments[0]):0,t=1 in arguments?Number(arguments[1]):0,i=2 in arguments?Number(arguments[2]):0,n=3 in arguments?Number(arguments[3]):0,this.right=(this.x=this.left=e)+(this.width=i),this.bottom=(this.y=this.top=t)+(this.height=n),Object.freeze(this)}function d(){t=requestAnimationFrame(d);var s=new WeakMap,p=new Set;o.forEach((function(t){r.get(t).forEach((function(i){var r=t instanceof window.SVGElement,o=a.get(t),d=r?0:parseFloat(o.paddingTop),f=r?0:parseFloat(o.paddingRight),l=r?0:parseFloat(o.paddingBottom),u=r?0:parseFloat(o.paddingLeft),g=r?0:parseFloat(o.borderTopWidth),m=r?0:parseFloat(o.borderRightWidth),w=r?0:parseFloat(o.borderBottomWidth),b=u+f,F=d+l,v=(r?0:parseFloat(o.borderLeftWidth))+m,W=g+w,y=r?0:t.offsetHeight-W-t.clientHeight,E=r?0:t.offsetWidth-v-t.clientWidth,R=b+v,z=F+W,M=r?t.width:parseFloat(o.width)-R-E,O=r?t.height:parseFloat(o.height)-z-y;if(n.has(t)){var k=n.get(t);if(k[0]===M&&k[1]===O)return}n.set(t,[M,O]);var S=Object.create(h.prototype);S.target=t,S.contentRect=new c(u,d,M,O),s.has(i)||(s.set(i,[]),p.add(i)),s.get(i).push(S)}))})),p.forEach((function(e){i.get(e).call(e,s.get(e),e)}))}return s.prototype.observe=function(i){if(i instanceof window.Element){r.has(i)||(r.set(i,new Set),o.add(i),a.set(i,window.getComputedStyle(i)));var n=r.get(i);n.has(this)||n.add(this),cancelAnimationFrame(t),t=requestAnimationFrame(d)}},s.prototype.unobserve=function(i){if(i instanceof window.Element&&r.has(i)){var n=r.get(i);n.has(this)&&(n.delete(this),n.size||(r.delete(i),o.delete(i))),n.size||r.delete(i),o.size||cancelAnimationFrame(t)}},A.DOMRectReadOnly=c,A.ResizeObserver=s,A.ResizeObserverEntry=h,A}; // eslint-disable-line\n",
       "mpl.toolbar_items = [[\"Home\", \"Reset original view\", \"fa fa-home icon-home\", \"home\"], [\"Back\", \"Back to previous view\", \"fa fa-arrow-left icon-arrow-left\", \"back\"], [\"Forward\", \"Forward to next view\", \"fa fa-arrow-right icon-arrow-right\", \"forward\"], [\"\", \"\", \"\", \"\"], [\"Pan\", \"Left button pans, Right button zooms\\nx/y fixes axis, CTRL fixes aspect\", \"fa fa-arrows icon-move\", \"pan\"], [\"Zoom\", \"Zoom to rectangle\\nx/y fixes axis, CTRL fixes aspect\", \"fa fa-square-o icon-check-empty\", \"zoom\"], [\"\", \"\", \"\", \"\"], [\"Download\", \"Download plot\", \"fa fa-floppy-o icon-save\", \"download\"]];\n",
       "\n",
       "mpl.extensions = [\"eps\", \"jpeg\", \"pdf\", \"png\", \"ps\", \"raw\", \"svg\", \"tif\"];\n",
       "\n",
       "mpl.default_extension = \"png\";/* global mpl */\n",
       "\n",
       "var comm_websocket_adapter = function (comm) {\n",
       "    // Create a \"websocket\"-like object which calls the given IPython comm\n",
       "    // object with the appropriate methods. Currently this is a non binary\n",
       "    // socket, so there is still some room for performance tuning.\n",
       "    var ws = {};\n",
       "\n",
       "    ws.close = function () {\n",
       "        comm.close();\n",
       "    };\n",
       "    ws.send = function (m) {\n",
       "        //console.log('sending', m);\n",
       "        comm.send(m);\n",
       "    };\n",
       "    // Register the callback with on_msg.\n",
       "    comm.on_msg(function (msg) {\n",
       "        //console.log('receiving', msg['content']['data'], msg);\n",
       "        // Pass the mpl event to the overridden (by mpl) onmessage function.\n",
       "        ws.onmessage(msg['content']['data']);\n",
       "    });\n",
       "    return ws;\n",
       "};\n",
       "\n",
       "mpl.mpl_figure_comm = function (comm, msg) {\n",
       "    // This is the function which gets called when the mpl process\n",
       "    // starts-up an IPython Comm through the \"matplotlib\" channel.\n",
       "\n",
       "    var id = msg.content.data.id;\n",
       "    // Get hold of the div created by the display call when the Comm\n",
       "    // socket was opened in Python.\n",
       "    var element = document.getElementById(id);\n",
       "    var ws_proxy = comm_websocket_adapter(comm);\n",
       "\n",
       "    function ondownload(figure, _format) {\n",
       "        window.open(figure.canvas.toDataURL());\n",
       "    }\n",
       "\n",
       "    var fig = new mpl.figure(id, ws_proxy, ondownload, element);\n",
       "\n",
       "    // Call onopen now - mpl needs it, as it is assuming we've passed it a real\n",
       "    // web socket which is closed, not our websocket->open comm proxy.\n",
       "    ws_proxy.onopen();\n",
       "\n",
       "    fig.parent_element = element;\n",
       "    fig.cell_info = mpl.find_output_cell(\"<div id='\" + id + \"'></div>\");\n",
       "    if (!fig.cell_info) {\n",
       "        console.error('Failed to find cell for figure', id, fig);\n",
       "        return;\n",
       "    }\n",
       "    fig.cell_info[0].output_area.element.on(\n",
       "        'cleared',\n",
       "        { fig: fig },\n",
       "        fig._remove_fig_handler\n",
       "    );\n",
       "};\n",
       "\n",
       "mpl.figure.prototype.handle_close = function (fig, msg) {\n",
       "    var width = fig.canvas.width / fig.ratio;\n",
       "    fig.cell_info[0].output_area.element.off(\n",
       "        'cleared',\n",
       "        fig._remove_fig_handler\n",
       "    );\n",
       "    fig.resizeObserverInstance.unobserve(fig.canvas_div);\n",
       "\n",
       "    // Update the output cell to use the data from the current canvas.\n",
       "    fig.push_to_output();\n",
       "    var dataURL = fig.canvas.toDataURL();\n",
       "    // Re-enable the keyboard manager in IPython - without this line, in FF,\n",
       "    // the notebook keyboard shortcuts fail.\n",
       "    IPython.keyboard_manager.enable();\n",
       "    fig.parent_element.innerHTML =\n",
       "        '<img src=\"' + dataURL + '\" width=\"' + width + '\">';\n",
       "    fig.close_ws(fig, msg);\n",
       "};\n",
       "\n",
       "mpl.figure.prototype.close_ws = function (fig, msg) {\n",
       "    fig.send_message('closing', msg);\n",
       "    // fig.ws.close()\n",
       "};\n",
       "\n",
       "mpl.figure.prototype.push_to_output = function (_remove_interactive) {\n",
       "    // Turn the data on the canvas into data in the output cell.\n",
       "    var width = this.canvas.width / this.ratio;\n",
       "    var dataURL = this.canvas.toDataURL();\n",
       "    this.cell_info[1]['text/html'] =\n",
       "        '<img src=\"' + dataURL + '\" width=\"' + width + '\">';\n",
       "};\n",
       "\n",
       "mpl.figure.prototype.updated_canvas_event = function () {\n",
       "    // Tell IPython that the notebook contents must change.\n",
       "    IPython.notebook.set_dirty(true);\n",
       "    this.send_message('ack', {});\n",
       "    var fig = this;\n",
       "    // Wait a second, then push the new image to the DOM so\n",
       "    // that it is saved nicely (might be nice to debounce this).\n",
       "    setTimeout(function () {\n",
       "        fig.push_to_output();\n",
       "    }, 1000);\n",
       "};\n",
       "\n",
       "mpl.figure.prototype._init_toolbar = function () {\n",
       "    var fig = this;\n",
       "\n",
       "    var toolbar = document.createElement('div');\n",
       "    toolbar.classList = 'btn-toolbar';\n",
       "    this.root.appendChild(toolbar);\n",
       "\n",
       "    function on_click_closure(name) {\n",
       "        return function (_event) {\n",
       "            return fig.toolbar_button_onclick(name);\n",
       "        };\n",
       "    }\n",
       "\n",
       "    function on_mouseover_closure(tooltip) {\n",
       "        return function (event) {\n",
       "            if (!event.currentTarget.disabled) {\n",
       "                return fig.toolbar_button_onmouseover(tooltip);\n",
       "            }\n",
       "        };\n",
       "    }\n",
       "\n",
       "    fig.buttons = {};\n",
       "    var buttonGroup = document.createElement('div');\n",
       "    buttonGroup.classList = 'btn-group';\n",
       "    var button;\n",
       "    for (var toolbar_ind in mpl.toolbar_items) {\n",
       "        var name = mpl.toolbar_items[toolbar_ind][0];\n",
       "        var tooltip = mpl.toolbar_items[toolbar_ind][1];\n",
       "        var image = mpl.toolbar_items[toolbar_ind][2];\n",
       "        var method_name = mpl.toolbar_items[toolbar_ind][3];\n",
       "\n",
       "        if (!name) {\n",
       "            /* Instead of a spacer, we start a new button group. */\n",
       "            if (buttonGroup.hasChildNodes()) {\n",
       "                toolbar.appendChild(buttonGroup);\n",
       "            }\n",
       "            buttonGroup = document.createElement('div');\n",
       "            buttonGroup.classList = 'btn-group';\n",
       "            continue;\n",
       "        }\n",
       "\n",
       "        button = fig.buttons[name] = document.createElement('button');\n",
       "        button.classList = 'btn btn-default';\n",
       "        button.href = '#';\n",
       "        button.title = name;\n",
       "        button.innerHTML = '<i class=\"fa ' + image + ' fa-lg\"></i>';\n",
       "        button.addEventListener('click', on_click_closure(method_name));\n",
       "        button.addEventListener('mouseover', on_mouseover_closure(tooltip));\n",
       "        buttonGroup.appendChild(button);\n",
       "    }\n",
       "\n",
       "    if (buttonGroup.hasChildNodes()) {\n",
       "        toolbar.appendChild(buttonGroup);\n",
       "    }\n",
       "\n",
       "    // Add the status bar.\n",
       "    var status_bar = document.createElement('span');\n",
       "    status_bar.classList = 'mpl-message pull-right';\n",
       "    toolbar.appendChild(status_bar);\n",
       "    this.message = status_bar;\n",
       "\n",
       "    // Add the close button to the window.\n",
       "    var buttongrp = document.createElement('div');\n",
       "    buttongrp.classList = 'btn-group inline pull-right';\n",
       "    button = document.createElement('button');\n",
       "    button.classList = 'btn btn-mini btn-primary';\n",
       "    button.href = '#';\n",
       "    button.title = 'Stop Interaction';\n",
       "    button.innerHTML = '<i class=\"fa fa-power-off icon-remove icon-large\"></i>';\n",
       "    button.addEventListener('click', function (_evt) {\n",
       "        fig.handle_close(fig, {});\n",
       "    });\n",
       "    button.addEventListener(\n",
       "        'mouseover',\n",
       "        on_mouseover_closure('Stop Interaction')\n",
       "    );\n",
       "    buttongrp.appendChild(button);\n",
       "    var titlebar = this.root.querySelector('.ui-dialog-titlebar');\n",
       "    titlebar.insertBefore(buttongrp, titlebar.firstChild);\n",
       "};\n",
       "\n",
       "mpl.figure.prototype._remove_fig_handler = function (event) {\n",
       "    var fig = event.data.fig;\n",
       "    if (event.target !== this) {\n",
       "        // Ignore bubbled events from children.\n",
       "        return;\n",
       "    }\n",
       "    fig.close_ws(fig, {});\n",
       "};\n",
       "\n",
       "mpl.figure.prototype._root_extra_style = function (el) {\n",
       "    el.style.boxSizing = 'content-box'; // override notebook setting of border-box.\n",
       "};\n",
       "\n",
       "mpl.figure.prototype._canvas_extra_style = function (el) {\n",
       "    // this is important to make the div 'focusable\n",
       "    el.setAttribute('tabindex', 0);\n",
       "    // reach out to IPython and tell the keyboard manager to turn it's self\n",
       "    // off when our div gets focus\n",
       "\n",
       "    // location in version 3\n",
       "    if (IPython.notebook.keyboard_manager) {\n",
       "        IPython.notebook.keyboard_manager.register_events(el);\n",
       "    } else {\n",
       "        // location in version 2\n",
       "        IPython.keyboard_manager.register_events(el);\n",
       "    }\n",
       "};\n",
       "\n",
       "mpl.figure.prototype._key_event_extra = function (event, _name) {\n",
       "    var manager = IPython.notebook.keyboard_manager;\n",
       "    if (!manager) {\n",
       "        manager = IPython.keyboard_manager;\n",
       "    }\n",
       "\n",
       "    // Check for shift+enter\n",
       "    if (event.shiftKey && event.which === 13) {\n",
       "        this.canvas_div.blur();\n",
       "        // select the cell after this one\n",
       "        var index = IPython.notebook.find_cell_index(this.cell_info[0]);\n",
       "        IPython.notebook.select(index + 1);\n",
       "    }\n",
       "};\n",
       "\n",
       "mpl.figure.prototype.handle_save = function (fig, _msg) {\n",
       "    fig.ondownload(fig, null);\n",
       "};\n",
       "\n",
       "mpl.find_output_cell = function (html_output) {\n",
       "    // Return the cell and output element which can be found *uniquely* in the notebook.\n",
       "    // Note - this is a bit hacky, but it is done because the \"notebook_saving.Notebook\"\n",
       "    // IPython event is triggered only after the cells have been serialised, which for\n",
       "    // our purposes (turning an active figure into a static one), is too late.\n",
       "    var cells = IPython.notebook.get_cells();\n",
       "    var ncells = cells.length;\n",
       "    for (var i = 0; i < ncells; i++) {\n",
       "        var cell = cells[i];\n",
       "        if (cell.cell_type === 'code') {\n",
       "            for (var j = 0; j < cell.output_area.outputs.length; j++) {\n",
       "                var data = cell.output_area.outputs[j];\n",
       "                if (data.data) {\n",
       "                    // IPython >= 3 moved mimebundle to data attribute of output\n",
       "                    data = data.data;\n",
       "                }\n",
       "                if (data['text/html'] === html_output) {\n",
       "                    return [cell, data, j];\n",
       "                }\n",
       "            }\n",
       "        }\n",
       "    }\n",
       "};\n",
       "\n",
       "// Register the function which deals with the matplotlib target/channel.\n",
       "// The kernel may be null if the page has been refreshed.\n",
       "if (IPython.notebook.kernel !== null) {\n",
       "    IPython.notebook.kernel.comm_manager.register_target(\n",
       "        'matplotlib',\n",
       "        mpl.mpl_figure_comm\n",
       "    );\n",
       "}\n"
      ],
      "text/plain": [
       "<IPython.core.display.Javascript object>"
      ]
     },
     "metadata": {},
     "output_type": "display_data"
    },
    {
     "data": {
      "text/html": [
       "<img src=\"data:image/png;base64,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\" width=\"640\">"
      ],
      "text/plain": [
       "<IPython.core.display.HTML object>"
      ]
     },
     "metadata": {},
     "output_type": "display_data"
    },
    {
     "data": {
      "application/vnd.jupyter.widget-view+json": {
       "model_id": "0add538758d043569fd71e7515173054",
       "version_major": 2,
       "version_minor": 0
      },
      "text/plain": [
       "  0%|          | 0/100 [00:00<?, ?it/s]"
      ]
     },
     "metadata": {},
     "output_type": "display_data"
    }
   ],
   "source": [
    "# \"Learning Rate\"\n",
    "alpha = 0.01\n",
    "\n",
    "# Weights to tune the importance of visual aspects\n",
    "octilinearity_weight = 100.0\n",
    "distance_weight = 10.0\n",
    "location_accuracy_weight = 10.0\n",
    "\n",
    "# Distance between stations\n",
    "station_distance = 10.0\n",
    "\n",
    "# Generate a random new graph\n",
    "G = generate_graph()\n",
    "\n",
    "\n",
    "fig, ax = plt.subplots(1,1)\n",
    "\n",
    "iterations = 100\n",
    "for i in tqdm.tqdm(range(iterations)):\n",
    "    do = octilinearity_weight * max(1, 1 + (i - 30)/(iterations - 30))\n",
    "    octilinearity_constraint(G, do)\n",
    "    dw = distance_weight * min(1, 1 - (i - 30)/(iterations - 30))\n",
    "    #print(1 - (i - 30)/(iterations - 30))\n",
    "    distance_constraint(G, dw, station_distance)\n",
    "    #location_accuracy_constraint(G, 1 * min(1, 1 - (i - 30)/(iterations - 30)))\n",
    "    apply_forces(G, alpha)\n",
    "\n",
    "    # Plotting\n",
    "    ax.clear()\n",
    "    nx.draw(G, pos=get_positions(G), ax=ax, node_size=10)\n",
    "    fig.canvas.draw()\n",
    "\n",
    "    # Wait a little bit\n",
    "    time.sleep(.016)\n"
   ]
  },
  {
   "cell_type": "markdown",
   "metadata": {},
   "source": [
    "# Plotting with plotly"
   ]
  },
  {
   "cell_type": "code",
   "execution_count": 48,
   "metadata": {},
   "outputs": [],
   "source": [
    "import plotly.graph_objects as go\n",
    "G = nx.random_geometric_graph(20, 0.25)"
   ]
  },
  {
   "cell_type": "code",
   "execution_count": 84,
   "metadata": {},
   "outputs": [],
   "source": [
    "def unravel_network(G):\n",
    "    # Edges\n",
    "    edge_x = []\n",
    "    edge_y = []\n",
    "    for edge in G.edges():\n",
    "        x0, y0 = G.nodes[edge[0]]['pos']\n",
    "        x1, y1 = G.nodes[edge[1]]['pos']\n",
    "        edge_x.append(x0)\n",
    "        edge_x.append(x1)\n",
    "        edge_x.append(None)\n",
    "        edge_y.append(y0)\n",
    "        edge_y.append(y1)\n",
    "        edge_y.append(None)\n",
    "        \n",
    "    # Nodes\n",
    "    node_x = []\n",
    "    node_y = []\n",
    "    for node in G.nodes():\n",
    "        x, y = G.nodes[node]['pos']\n",
    "        node_x.append(x)\n",
    "        node_y.append(y)\n",
    "        \n",
    "    return edge_x, edge_y, node_x, node_y\n",
    "\n",
    "\n",
    "def create_traces(edge_x, edge_y, node_x, node_y):\n",
    "    # Plot Edges\n",
    "    edge_trace = go.Scatter(\n",
    "        x=edge_x, y=edge_y,\n",
    "        line=dict(width=0.5, color='#888'),\n",
    "        hoverinfo='none',\n",
    "        mode='lines')\n",
    "    \n",
    "    # Plot Nodes\n",
    "    node_trace = go.Scatter(\n",
    "        x=node_x, y=node_y,\n",
    "        mode='markers',\n",
    "        hoverinfo='text',\n",
    "        marker=dict(\n",
    "            size=10,\n",
    "            line_width=2))\n",
    "    return edge_trace, node_trace\n",
    "\n",
    "\n",
    "def update_traces(fig, edge_x, edge_y, node_x, node_y):\n",
    "    with fig.batch_update():\n",
    "        fig.data[0].x = edge_x\n",
    "        fig.data[0].y = edge_y\n",
    "        fig.data[1].x = node_x\n",
    "        fig.data[1].y = node_y\n",
    "\n",
    "\n",
    "def create_figure(edge_trace, node_trace):\n",
    "    # Create the final plot\n",
    "    fig = go.Figure(data=[edge_trace, node_trace], layout=go.Layout(showlegend=False))#,\n",
    "             #layout=go.Layout(\n",
    "                #showlegend=False,\n",
    "                #hovermode='closest',\n",
    "                #margin=dict(b=20,l=5,r=5,t=40),\n",
    "                #xaxis=dict(showgrid=False, zeroline=False, showticklabels=False),\n",
    "                #yaxis=dict(showgrid=False, zeroline=False, showticklabels=False))\n",
    "              #  )\n",
    "    return fig\n"
   ]
  },
  {
   "cell_type": "code",
   "execution_count": 85,
   "metadata": {},
   "outputs": [],
   "source": [
    "def wiggle(G, amount=.1):\n",
    "    for idx, node in G.nodes(data=True):\n",
    "        x, y = node['pos']\n",
    "        node['pos'] = [x + amount*(0.5 - np.random.rand(1)[0]), y + amount*(0.5 - np.random.rand(1)[0])]\n",
    "    return G\n"
   ]
  },
  {
   "cell_type": "code",
   "execution_count": 89,
   "metadata": {},
   "outputs": [
    {
     "data": {
      "application/vnd.plotly.v1+json": {
       "config": {
        "plotlyServerURL": "https://plot.ly"
       },
       "data": [
        {
         "hoverinfo": "none",
         "line": {
          "color": "#888",
          "width": 0.5
         },
         "mode": "lines",
         "type": "scatter",
         "x": [],
         "y": []
        },
        {
         "hoverinfo": "text",
         "marker": {
          "line": {
           "width": 2
          },
          "size": 10
         },
         "mode": "markers",
         "type": "scatter",
         "x": [],
         "y": []
        }
       ],
       "layout": {
        "showlegend": false,
        "template": {
         "data": {
          "bar": [
           {
            "error_x": {
             "color": "#2a3f5f"
            },
            "error_y": {
             "color": "#2a3f5f"
            },
            "marker": {
             "line": {
              "color": "#E5ECF6",
              "width": 0.5
             }
            },
            "type": "bar"
           }
          ],
          "barpolar": [
           {
            "marker": {
             "line": {
              "color": "#E5ECF6",
              "width": 0.5
             }
            },
            "type": "barpolar"
           }
          ],
          "carpet": [
           {
            "aaxis": {
             "endlinecolor": "#2a3f5f",
             "gridcolor": "white",
             "linecolor": "white",
             "minorgridcolor": "white",
             "startlinecolor": "#2a3f5f"
            },
            "baxis": {
             "endlinecolor": "#2a3f5f",
             "gridcolor": "white",
             "linecolor": "white",
             "minorgridcolor": "white",
             "startlinecolor": "#2a3f5f"
            },
            "type": "carpet"
           }
          ],
          "choropleth": [
           {
            "colorbar": {
             "outlinewidth": 0,
             "ticks": ""
            },
            "type": "choropleth"
           }
          ],
          "contour": [
           {
            "colorbar": {
             "outlinewidth": 0,
             "ticks": ""
            },
            "colorscale": [
             [
              0,
              "#0d0887"
             ],
             [
              0.1111111111111111,
              "#46039f"
             ],
             [
              0.2222222222222222,
              "#7201a8"
             ],
             [
              0.3333333333333333,
              "#9c179e"
             ],
             [
              0.4444444444444444,
              "#bd3786"
             ],
             [
              0.5555555555555556,
              "#d8576b"
             ],
             [
              0.6666666666666666,
              "#ed7953"
             ],
             [
              0.7777777777777778,
              "#fb9f3a"
             ],
             [
              0.8888888888888888,
              "#fdca26"
             ],
             [
              1,
              "#f0f921"
             ]
            ],
            "type": "contour"
           }
          ],
          "contourcarpet": [
           {
            "colorbar": {
             "outlinewidth": 0,
             "ticks": ""
            },
            "type": "contourcarpet"
           }
          ],
          "heatmap": [
           {
            "colorbar": {
             "outlinewidth": 0,
             "ticks": ""
            },
            "colorscale": [
             [
              0,
              "#0d0887"
             ],
             [
              0.1111111111111111,
              "#46039f"
             ],
             [
              0.2222222222222222,
              "#7201a8"
             ],
             [
              0.3333333333333333,
              "#9c179e"
             ],
             [
              0.4444444444444444,
              "#bd3786"
             ],
             [
              0.5555555555555556,
              "#d8576b"
             ],
             [
              0.6666666666666666,
              "#ed7953"
             ],
             [
              0.7777777777777778,
              "#fb9f3a"
             ],
             [
              0.8888888888888888,
              "#fdca26"
             ],
             [
              1,
              "#f0f921"
             ]
            ],
            "type": "heatmap"
           }
          ],
          "heatmapgl": [
           {
            "colorbar": {
             "outlinewidth": 0,
             "ticks": ""
            },
            "colorscale": [
             [
              0,
              "#0d0887"
             ],
             [
              0.1111111111111111,
              "#46039f"
             ],
             [
              0.2222222222222222,
              "#7201a8"
             ],
             [
              0.3333333333333333,
              "#9c179e"
             ],
             [
              0.4444444444444444,
              "#bd3786"
             ],
             [
              0.5555555555555556,
              "#d8576b"
             ],
             [
              0.6666666666666666,
              "#ed7953"
             ],
             [
              0.7777777777777778,
              "#fb9f3a"
             ],
             [
              0.8888888888888888,
              "#fdca26"
             ],
             [
              1,
              "#f0f921"
             ]
            ],
            "type": "heatmapgl"
           }
          ],
          "histogram": [
           {
            "marker": {
             "colorbar": {
              "outlinewidth": 0,
              "ticks": ""
             }
            },
            "type": "histogram"
           }
          ],
          "histogram2d": [
           {
            "colorbar": {
             "outlinewidth": 0,
             "ticks": ""
            },
            "colorscale": [
             [
              0,
              "#0d0887"
             ],
             [
              0.1111111111111111,
              "#46039f"
             ],
             [
              0.2222222222222222,
              "#7201a8"
             ],
             [
              0.3333333333333333,
              "#9c179e"
             ],
             [
              0.4444444444444444,
              "#bd3786"
             ],
             [
              0.5555555555555556,
              "#d8576b"
             ],
             [
              0.6666666666666666,
              "#ed7953"
             ],
             [
              0.7777777777777778,
              "#fb9f3a"
             ],
             [
              0.8888888888888888,
              "#fdca26"
             ],
             [
              1,
              "#f0f921"
             ]
            ],
            "type": "histogram2d"
           }
          ],
          "histogram2dcontour": [
           {
            "colorbar": {
             "outlinewidth": 0,
             "ticks": ""
            },
            "colorscale": [
             [
              0,
              "#0d0887"
             ],
             [
              0.1111111111111111,
              "#46039f"
             ],
             [
              0.2222222222222222,
              "#7201a8"
             ],
             [
              0.3333333333333333,
              "#9c179e"
             ],
             [
              0.4444444444444444,
              "#bd3786"
             ],
             [
              0.5555555555555556,
              "#d8576b"
             ],
             [
              0.6666666666666666,
              "#ed7953"
             ],
             [
              0.7777777777777778,
              "#fb9f3a"
             ],
             [
              0.8888888888888888,
              "#fdca26"
             ],
             [
              1,
              "#f0f921"
             ]
            ],
            "type": "histogram2dcontour"
           }
          ],
          "mesh3d": [
           {
            "colorbar": {
             "outlinewidth": 0,
             "ticks": ""
            },
            "type": "mesh3d"
           }
          ],
          "parcoords": [
           {
            "line": {
             "colorbar": {
              "outlinewidth": 0,
              "ticks": ""
             }
            },
            "type": "parcoords"
           }
          ],
          "pie": [
           {
            "automargin": true,
            "type": "pie"
           }
          ],
          "scatter": [
           {
            "marker": {
             "colorbar": {
              "outlinewidth": 0,
              "ticks": ""
             }
            },
            "type": "scatter"
           }
          ],
          "scatter3d": [
           {
            "line": {
             "colorbar": {
              "outlinewidth": 0,
              "ticks": ""
             }
            },
            "marker": {
             "colorbar": {
              "outlinewidth": 0,
              "ticks": ""
             }
            },
            "type": "scatter3d"
           }
          ],
          "scattercarpet": [
           {
            "marker": {
             "colorbar": {
              "outlinewidth": 0,
              "ticks": ""
             }
            },
            "type": "scattercarpet"
           }
          ],
          "scattergeo": [
           {
            "marker": {
             "colorbar": {
              "outlinewidth": 0,
              "ticks": ""
             }
            },
            "type": "scattergeo"
           }
          ],
          "scattergl": [
           {
            "marker": {
             "colorbar": {
              "outlinewidth": 0,
              "ticks": ""
             }
            },
            "type": "scattergl"
           }
          ],
          "scattermapbox": [
           {
            "marker": {
             "colorbar": {
              "outlinewidth": 0,
              "ticks": ""
             }
            },
            "type": "scattermapbox"
           }
          ],
          "scatterpolar": [
           {
            "marker": {
             "colorbar": {
              "outlinewidth": 0,
              "ticks": ""
             }
            },
            "type": "scatterpolar"
           }
          ],
          "scatterpolargl": [
           {
            "marker": {
             "colorbar": {
              "outlinewidth": 0,
              "ticks": ""
             }
            },
            "type": "scatterpolargl"
           }
          ],
          "scatterternary": [
           {
            "marker": {
             "colorbar": {
              "outlinewidth": 0,
              "ticks": ""
             }
            },
            "type": "scatterternary"
           }
          ],
          "surface": [
           {
            "colorbar": {
             "outlinewidth": 0,
             "ticks": ""
            },
            "colorscale": [
             [
              0,
              "#0d0887"
             ],
             [
              0.1111111111111111,
              "#46039f"
             ],
             [
              0.2222222222222222,
              "#7201a8"
             ],
             [
              0.3333333333333333,
              "#9c179e"
             ],
             [
              0.4444444444444444,
              "#bd3786"
             ],
             [
              0.5555555555555556,
              "#d8576b"
             ],
             [
              0.6666666666666666,
              "#ed7953"
             ],
             [
              0.7777777777777778,
              "#fb9f3a"
             ],
             [
              0.8888888888888888,
              "#fdca26"
             ],
             [
              1,
              "#f0f921"
             ]
            ],
            "type": "surface"
           }
          ],
          "table": [
           {
            "cells": {
             "fill": {
              "color": "#EBF0F8"
             },
             "line": {
              "color": "white"
             }
            },
            "header": {
             "fill": {
              "color": "#C8D4E3"
             },
             "line": {
              "color": "white"
             }
            },
            "type": "table"
           }
          ]
         },
         "layout": {
          "annotationdefaults": {
           "arrowcolor": "#2a3f5f",
           "arrowhead": 0,
           "arrowwidth": 1
          },
          "autotypenumbers": "strict",
          "coloraxis": {
           "colorbar": {
            "outlinewidth": 0,
            "ticks": ""
           }
          },
          "colorscale": {
           "diverging": [
            [
             0,
             "#8e0152"
            ],
            [
             0.1,
             "#c51b7d"
            ],
            [
             0.2,
             "#de77ae"
            ],
            [
             0.3,
             "#f1b6da"
            ],
            [
             0.4,
             "#fde0ef"
            ],
            [
             0.5,
             "#f7f7f7"
            ],
            [
             0.6,
             "#e6f5d0"
            ],
            [
             0.7,
             "#b8e186"
            ],
            [
             0.8,
             "#7fbc41"
            ],
            [
             0.9,
             "#4d9221"
            ],
            [
             1,
             "#276419"
            ]
           ],
           "sequential": [
            [
             0,
             "#0d0887"
            ],
            [
             0.1111111111111111,
             "#46039f"
            ],
            [
             0.2222222222222222,
             "#7201a8"
            ],
            [
             0.3333333333333333,
             "#9c179e"
            ],
            [
             0.4444444444444444,
             "#bd3786"
            ],
            [
             0.5555555555555556,
             "#d8576b"
            ],
            [
             0.6666666666666666,
             "#ed7953"
            ],
            [
             0.7777777777777778,
             "#fb9f3a"
            ],
            [
             0.8888888888888888,
             "#fdca26"
            ],
            [
             1,
             "#f0f921"
            ]
           ],
           "sequentialminus": [
            [
             0,
             "#0d0887"
            ],
            [
             0.1111111111111111,
             "#46039f"
            ],
            [
             0.2222222222222222,
             "#7201a8"
            ],
            [
             0.3333333333333333,
             "#9c179e"
            ],
            [
             0.4444444444444444,
             "#bd3786"
            ],
            [
             0.5555555555555556,
             "#d8576b"
            ],
            [
             0.6666666666666666,
             "#ed7953"
            ],
            [
             0.7777777777777778,
             "#fb9f3a"
            ],
            [
             0.8888888888888888,
             "#fdca26"
            ],
            [
             1,
             "#f0f921"
            ]
           ]
          },
          "colorway": [
           "#636efa",
           "#EF553B",
           "#00cc96",
           "#ab63fa",
           "#FFA15A",
           "#19d3f3",
           "#FF6692",
           "#B6E880",
           "#FF97FF",
           "#FECB52"
          ],
          "font": {
           "color": "#2a3f5f"
          },
          "geo": {
           "bgcolor": "white",
           "lakecolor": "white",
           "landcolor": "#E5ECF6",
           "showlakes": true,
           "showland": true,
           "subunitcolor": "white"
          },
          "hoverlabel": {
           "align": "left"
          },
          "hovermode": "closest",
          "mapbox": {
           "style": "light"
          },
          "paper_bgcolor": "white",
          "plot_bgcolor": "#E5ECF6",
          "polar": {
           "angularaxis": {
            "gridcolor": "white",
            "linecolor": "white",
            "ticks": ""
           },
           "bgcolor": "#E5ECF6",
           "radialaxis": {
            "gridcolor": "white",
            "linecolor": "white",
            "ticks": ""
           }
          },
          "scene": {
           "xaxis": {
            "backgroundcolor": "#E5ECF6",
            "gridcolor": "white",
            "gridwidth": 2,
            "linecolor": "white",
            "showbackground": true,
            "ticks": "",
            "zerolinecolor": "white"
           },
           "yaxis": {
            "backgroundcolor": "#E5ECF6",
            "gridcolor": "white",
            "gridwidth": 2,
            "linecolor": "white",
            "showbackground": true,
            "ticks": "",
            "zerolinecolor": "white"
           },
           "zaxis": {
            "backgroundcolor": "#E5ECF6",
            "gridcolor": "white",
            "gridwidth": 2,
            "linecolor": "white",
            "showbackground": true,
            "ticks": "",
            "zerolinecolor": "white"
           }
          },
          "shapedefaults": {
           "line": {
            "color": "#2a3f5f"
           }
          },
          "ternary": {
           "aaxis": {
            "gridcolor": "white",
            "linecolor": "white",
            "ticks": ""
           },
           "baxis": {
            "gridcolor": "white",
            "linecolor": "white",
            "ticks": ""
           },
           "bgcolor": "#E5ECF6",
           "caxis": {
            "gridcolor": "white",
            "linecolor": "white",
            "ticks": ""
           }
          },
          "title": {
           "x": 0.05
          },
          "xaxis": {
           "automargin": true,
           "gridcolor": "white",
           "linecolor": "white",
           "ticks": "",
           "title": {
            "standoff": 15
           },
           "zerolinecolor": "white",
           "zerolinewidth": 2
          },
          "yaxis": {
           "automargin": true,
           "gridcolor": "white",
           "linecolor": "white",
           "ticks": "",
           "title": {
            "standoff": 15
           },
           "zerolinecolor": "white",
           "zerolinewidth": 2
          }
         }
        }
       }
      },
      "text/html": [
       "<div>                            <div id=\"f8d3bc38-e3c0-4979-a0a6-5d1f477250f0\" class=\"plotly-graph-div\" style=\"height:525px; width:100%;\"></div>            <script type=\"text/javascript\">                require([\"plotly\"], function(Plotly) {                    window.PLOTLYENV=window.PLOTLYENV || {};                                    if (document.getElementById(\"f8d3bc38-e3c0-4979-a0a6-5d1f477250f0\")) {                    Plotly.newPlot(                        \"f8d3bc38-e3c0-4979-a0a6-5d1f477250f0\",                        [{\"hoverinfo\": \"none\", \"line\": {\"color\": \"#888\", \"width\": 0.5}, \"mode\": \"lines\", \"type\": \"scatter\", \"x\": [], \"y\": []}, {\"hoverinfo\": \"text\", \"marker\": {\"line\": {\"width\": 2}, \"size\": 10}, \"mode\": \"markers\", \"type\": \"scatter\", \"x\": [], \"y\": []}],                        {\"showlegend\": false, \"template\": {\"data\": {\"bar\": [{\"error_x\": {\"color\": \"#2a3f5f\"}, \"error_y\": {\"color\": \"#2a3f5f\"}, \"marker\": {\"line\": {\"color\": \"#E5ECF6\", \"width\": 0.5}}, \"type\": \"bar\"}], \"barpolar\": [{\"marker\": {\"line\": {\"color\": \"#E5ECF6\", \"width\": 0.5}}, \"type\": \"barpolar\"}], \"carpet\": [{\"aaxis\": {\"endlinecolor\": \"#2a3f5f\", \"gridcolor\": \"white\", \"linecolor\": \"white\", \"minorgridcolor\": \"white\", \"startlinecolor\": \"#2a3f5f\"}, \"baxis\": {\"endlinecolor\": \"#2a3f5f\", \"gridcolor\": \"white\", \"linecolor\": \"white\", \"minorgridcolor\": \"white\", \"startlinecolor\": \"#2a3f5f\"}, \"type\": \"carpet\"}], \"choropleth\": [{\"colorbar\": {\"outlinewidth\": 0, \"ticks\": \"\"}, \"type\": \"choropleth\"}], \"contour\": [{\"colorbar\": {\"outlinewidth\": 0, \"ticks\": \"\"}, \"colorscale\": [[0.0, \"#0d0887\"], [0.1111111111111111, \"#46039f\"], [0.2222222222222222, \"#7201a8\"], [0.3333333333333333, \"#9c179e\"], [0.4444444444444444, \"#bd3786\"], [0.5555555555555556, \"#d8576b\"], [0.6666666666666666, \"#ed7953\"], [0.7777777777777778, \"#fb9f3a\"], [0.8888888888888888, \"#fdca26\"], [1.0, \"#f0f921\"]], \"type\": \"contour\"}], \"contourcarpet\": [{\"colorbar\": {\"outlinewidth\": 0, \"ticks\": \"\"}, \"type\": \"contourcarpet\"}], \"heatmap\": [{\"colorbar\": {\"outlinewidth\": 0, \"ticks\": \"\"}, \"colorscale\": [[0.0, \"#0d0887\"], [0.1111111111111111, \"#46039f\"], [0.2222222222222222, \"#7201a8\"], [0.3333333333333333, \"#9c179e\"], [0.4444444444444444, \"#bd3786\"], [0.5555555555555556, \"#d8576b\"], [0.6666666666666666, \"#ed7953\"], [0.7777777777777778, \"#fb9f3a\"], [0.8888888888888888, \"#fdca26\"], [1.0, \"#f0f921\"]], \"type\": \"heatmap\"}], \"heatmapgl\": [{\"colorbar\": {\"outlinewidth\": 0, \"ticks\": \"\"}, \"colorscale\": [[0.0, \"#0d0887\"], [0.1111111111111111, \"#46039f\"], [0.2222222222222222, \"#7201a8\"], [0.3333333333333333, \"#9c179e\"], [0.4444444444444444, \"#bd3786\"], [0.5555555555555556, \"#d8576b\"], [0.6666666666666666, \"#ed7953\"], [0.7777777777777778, \"#fb9f3a\"], [0.8888888888888888, \"#fdca26\"], [1.0, \"#f0f921\"]], \"type\": \"heatmapgl\"}], \"histogram\": [{\"marker\": {\"colorbar\": {\"outlinewidth\": 0, \"ticks\": \"\"}}, \"type\": \"histogram\"}], \"histogram2d\": [{\"colorbar\": {\"outlinewidth\": 0, \"ticks\": \"\"}, \"colorscale\": [[0.0, \"#0d0887\"], [0.1111111111111111, \"#46039f\"], [0.2222222222222222, \"#7201a8\"], [0.3333333333333333, \"#9c179e\"], [0.4444444444444444, \"#bd3786\"], [0.5555555555555556, \"#d8576b\"], [0.6666666666666666, \"#ed7953\"], [0.7777777777777778, \"#fb9f3a\"], [0.8888888888888888, \"#fdca26\"], [1.0, \"#f0f921\"]], \"type\": \"histogram2d\"}], \"histogram2dcontour\": [{\"colorbar\": {\"outlinewidth\": 0, \"ticks\": \"\"}, \"colorscale\": [[0.0, \"#0d0887\"], [0.1111111111111111, \"#46039f\"], [0.2222222222222222, \"#7201a8\"], [0.3333333333333333, \"#9c179e\"], [0.4444444444444444, \"#bd3786\"], [0.5555555555555556, \"#d8576b\"], [0.6666666666666666, \"#ed7953\"], [0.7777777777777778, \"#fb9f3a\"], [0.8888888888888888, \"#fdca26\"], [1.0, \"#f0f921\"]], \"type\": \"histogram2dcontour\"}], \"mesh3d\": [{\"colorbar\": {\"outlinewidth\": 0, \"ticks\": \"\"}, \"type\": \"mesh3d\"}], \"parcoords\": [{\"line\": {\"colorbar\": {\"outlinewidth\": 0, \"ticks\": \"\"}}, \"type\": \"parcoords\"}], \"pie\": [{\"automargin\": true, \"type\": \"pie\"}], \"scatter\": [{\"marker\": {\"colorbar\": {\"outlinewidth\": 0, \"ticks\": \"\"}}, \"type\": \"scatter\"}], \"scatter3d\": [{\"line\": {\"colorbar\": {\"outlinewidth\": 0, \"ticks\": \"\"}}, \"marker\": {\"colorbar\": {\"outlinewidth\": 0, \"ticks\": \"\"}}, \"type\": \"scatter3d\"}], \"scattercarpet\": [{\"marker\": {\"colorbar\": {\"outlinewidth\": 0, \"ticks\": \"\"}}, \"type\": \"scattercarpet\"}], \"scattergeo\": [{\"marker\": {\"colorbar\": {\"outlinewidth\": 0, \"ticks\": \"\"}}, \"type\": \"scattergeo\"}], \"scattergl\": [{\"marker\": {\"colorbar\": {\"outlinewidth\": 0, \"ticks\": \"\"}}, \"type\": \"scattergl\"}], \"scattermapbox\": [{\"marker\": {\"colorbar\": {\"outlinewidth\": 0, \"ticks\": \"\"}}, \"type\": \"scattermapbox\"}], \"scatterpolar\": [{\"marker\": {\"colorbar\": {\"outlinewidth\": 0, \"ticks\": \"\"}}, \"type\": \"scatterpolar\"}], \"scatterpolargl\": [{\"marker\": {\"colorbar\": {\"outlinewidth\": 0, \"ticks\": \"\"}}, \"type\": \"scatterpolargl\"}], \"scatterternary\": [{\"marker\": {\"colorbar\": {\"outlinewidth\": 0, \"ticks\": \"\"}}, \"type\": \"scatterternary\"}], \"surface\": [{\"colorbar\": {\"outlinewidth\": 0, \"ticks\": \"\"}, \"colorscale\": [[0.0, \"#0d0887\"], [0.1111111111111111, \"#46039f\"], [0.2222222222222222, \"#7201a8\"], [0.3333333333333333, \"#9c179e\"], [0.4444444444444444, \"#bd3786\"], [0.5555555555555556, \"#d8576b\"], [0.6666666666666666, \"#ed7953\"], [0.7777777777777778, \"#fb9f3a\"], [0.8888888888888888, \"#fdca26\"], [1.0, \"#f0f921\"]], \"type\": \"surface\"}], \"table\": [{\"cells\": {\"fill\": {\"color\": \"#EBF0F8\"}, \"line\": {\"color\": \"white\"}}, \"header\": {\"fill\": {\"color\": \"#C8D4E3\"}, \"line\": {\"color\": \"white\"}}, \"type\": \"table\"}]}, \"layout\": {\"annotationdefaults\": {\"arrowcolor\": \"#2a3f5f\", \"arrowhead\": 0, \"arrowwidth\": 1}, \"autotypenumbers\": \"strict\", \"coloraxis\": {\"colorbar\": {\"outlinewidth\": 0, \"ticks\": \"\"}}, \"colorscale\": {\"diverging\": [[0, \"#8e0152\"], [0.1, \"#c51b7d\"], [0.2, \"#de77ae\"], [0.3, \"#f1b6da\"], [0.4, \"#fde0ef\"], [0.5, \"#f7f7f7\"], [0.6, \"#e6f5d0\"], [0.7, \"#b8e186\"], [0.8, \"#7fbc41\"], [0.9, \"#4d9221\"], [1, \"#276419\"]], \"sequential\": [[0.0, \"#0d0887\"], [0.1111111111111111, \"#46039f\"], [0.2222222222222222, \"#7201a8\"], [0.3333333333333333, \"#9c179e\"], [0.4444444444444444, \"#bd3786\"], [0.5555555555555556, \"#d8576b\"], [0.6666666666666666, \"#ed7953\"], [0.7777777777777778, \"#fb9f3a\"], [0.8888888888888888, \"#fdca26\"], [1.0, \"#f0f921\"]], \"sequentialminus\": [[0.0, \"#0d0887\"], [0.1111111111111111, \"#46039f\"], [0.2222222222222222, \"#7201a8\"], [0.3333333333333333, \"#9c179e\"], [0.4444444444444444, \"#bd3786\"], [0.5555555555555556, \"#d8576b\"], [0.6666666666666666, \"#ed7953\"], [0.7777777777777778, \"#fb9f3a\"], [0.8888888888888888, \"#fdca26\"], [1.0, \"#f0f921\"]]}, \"colorway\": [\"#636efa\", \"#EF553B\", \"#00cc96\", \"#ab63fa\", \"#FFA15A\", \"#19d3f3\", \"#FF6692\", \"#B6E880\", \"#FF97FF\", \"#FECB52\"], \"font\": {\"color\": \"#2a3f5f\"}, \"geo\": {\"bgcolor\": \"white\", \"lakecolor\": \"white\", \"landcolor\": \"#E5ECF6\", \"showlakes\": true, \"showland\": true, \"subunitcolor\": \"white\"}, \"hoverlabel\": {\"align\": \"left\"}, \"hovermode\": \"closest\", \"mapbox\": {\"style\": \"light\"}, \"paper_bgcolor\": \"white\", \"plot_bgcolor\": \"#E5ECF6\", \"polar\": {\"angularaxis\": {\"gridcolor\": \"white\", \"linecolor\": \"white\", \"ticks\": \"\"}, \"bgcolor\": \"#E5ECF6\", \"radialaxis\": {\"gridcolor\": \"white\", \"linecolor\": \"white\", \"ticks\": \"\"}}, \"scene\": {\"xaxis\": {\"backgroundcolor\": \"#E5ECF6\", \"gridcolor\": \"white\", \"gridwidth\": 2, \"linecolor\": \"white\", \"showbackground\": true, \"ticks\": \"\", \"zerolinecolor\": \"white\"}, \"yaxis\": {\"backgroundcolor\": \"#E5ECF6\", \"gridcolor\": \"white\", \"gridwidth\": 2, \"linecolor\": \"white\", \"showbackground\": true, \"ticks\": \"\", \"zerolinecolor\": \"white\"}, \"zaxis\": {\"backgroundcolor\": \"#E5ECF6\", \"gridcolor\": \"white\", \"gridwidth\": 2, \"linecolor\": \"white\", \"showbackground\": true, \"ticks\": \"\", \"zerolinecolor\": \"white\"}}, \"shapedefaults\": {\"line\": {\"color\": \"#2a3f5f\"}}, \"ternary\": {\"aaxis\": {\"gridcolor\": \"white\", \"linecolor\": \"white\", \"ticks\": \"\"}, \"baxis\": {\"gridcolor\": \"white\", \"linecolor\": \"white\", \"ticks\": \"\"}, \"bgcolor\": \"#E5ECF6\", \"caxis\": {\"gridcolor\": \"white\", \"linecolor\": \"white\", \"ticks\": \"\"}}, \"title\": {\"x\": 0.05}, \"xaxis\": {\"automargin\": true, \"gridcolor\": \"white\", \"linecolor\": \"white\", \"ticks\": \"\", \"title\": {\"standoff\": 15}, \"zerolinecolor\": \"white\", \"zerolinewidth\": 2}, \"yaxis\": {\"automargin\": true, \"gridcolor\": \"white\", \"linecolor\": \"white\", \"ticks\": \"\", \"title\": {\"standoff\": 15}, \"zerolinecolor\": \"white\", \"zerolinewidth\": 2}}}},                        {\"responsive\": true}                    ).then(function(){\n",
       "                            \n",
       "var gd = document.getElementById('f8d3bc38-e3c0-4979-a0a6-5d1f477250f0');\n",
       "var x = new MutationObserver(function (mutations, observer) {{\n",
       "        var display = window.getComputedStyle(gd).display;\n",
       "        if (!display || display === 'none') {{\n",
       "            console.log([gd, 'removed!']);\n",
       "            Plotly.purge(gd);\n",
       "            observer.disconnect();\n",
       "        }}\n",
       "}});\n",
       "\n",
       "// Listen for the removal of the full notebook cells\n",
       "var notebookContainer = gd.closest('#notebook-container');\n",
       "if (notebookContainer) {{\n",
       "    x.observe(notebookContainer, {childList: true});\n",
       "}}\n",
       "\n",
       "// Listen for the clearing of the current output cell\n",
       "var outputEl = gd.closest('.output');\n",
       "if (outputEl) {{\n",
       "    x.observe(outputEl, {childList: true});\n",
       "}}\n",
       "\n",
       "                        })                };                });            </script>        </div>"
      ]
     },
     "metadata": {},
     "output_type": "display_data"
    }
   ],
   "source": [
    "traces = unravel_network(G)\n",
    "edge_trace, node_trace = create_traces([], [], [], [])\n",
    "fig = create_figure(edge_trace, node_trace)\n",
    "fig"
   ]
  },
  {
   "cell_type": "code",
   "execution_count": 91,
   "metadata": {},
   "outputs": [],
   "source": [
    "for i in range(10):\n",
    "    G = wiggle(G, amount=5)\n",
    "    _, _, node_x, node_y = unravel_network(G)\n",
    "    #update_traces(fig, *traces)\n",
    "    #with fig.batch_update():\n",
    "        #fig.data[0].x = edge_x\n",
    "        #fig.data[0].y = edge_y\n",
    "    fig.data[1].x = node_x\n",
    "    fig.data[1].y = node_y\n",
    "    time.sleep(.3)"
   ]
  },
  {
   "cell_type": "code",
   "execution_count": 56,
   "metadata": {},
   "outputs": [
    {
     "data": {
      "application/vnd.jupyter.widget-view+json": {
       "model_id": "413c6ae3ac424453a1c2a7fc38c4ed70",
       "version_major": 2,
       "version_minor": 0
      },
      "text/plain": [
       "FigureWidget({\n",
       "    'data': [{'type': 'scatter', 'uid': 'd04e0ad8-bcf6-4152-8623-7d0f2bb6c165'}], 'layout': {'t…"
      ]
     },
     "metadata": {},
     "output_type": "display_data"
    }
   ],
   "source": [
    "data = [1,3,2,4,3,3,2,3]\n",
    "fig = go.FigureWidget()\n",
    "fig.add_scatter()\n",
    "fig"
   ]
  },
  {
   "cell_type": "code",
   "execution_count": 57,
   "metadata": {},
   "outputs": [],
   "source": [
    "for i in range(len(data)):\n",
    "    time.sleep(0.3)\n",
    "    with fig.batch_update():\n",
    "        fig.data[0].y = data[:i]"
   ]
  },
  {
   "cell_type": "code",
   "execution_count": null,
   "metadata": {},
   "outputs": [],
   "source": []
  }
 ],
 "metadata": {
  "kernelspec": {
   "display_name": "Python 3",
   "language": "python",
   "name": "python3"
  },
  "language_info": {
   "codemirror_mode": {
    "name": "ipython",
    "version": 3
   },
   "file_extension": ".py",
   "mimetype": "text/x-python",
   "name": "python",
   "nbconvert_exporter": "python",
   "pygments_lexer": "ipython3",
   "version": "3.9.1"
  }
 },
 "nbformat": 4,
 "nbformat_minor": 4
}
